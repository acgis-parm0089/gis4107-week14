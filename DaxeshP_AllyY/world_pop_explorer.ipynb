{
 "cells": [
  {
   "cell_type": "code",
   "execution_count": null,
   "metadata": {},
   "outputs": [],
   "source": [
    "import pandas as pd\n",
    "# import ssl\n",
    "# ssl._create_default_https_context = ssl._create_unverified_context"
   ]
  },
  {
   "cell_type": "code",
   "execution_count": null,
   "metadata": {},
   "outputs": [],
   "source": [
    "# Download World Pop from Wikipedia using pd.read_html\n",
    "out_csv = r'D:\\acgis\\gis4107_prog\\week_14\\lab\\gis4107-week14\\DaxeshP_AllyY\\Responses\\world_pop.csv'\n",
    "dfs = pd.read_html('https://en.wikipedia.org/wiki/List_of_countries_by_population_(United_Nations)')\n",
    "df = dfs[0]\n",
    "df.to_csv(out_csv)\n",
    "df.head()"
   ]
  },
  {
   "cell_type": "code",
   "execution_count": null,
   "metadata": {},
   "outputs": [],
   "source": [
    "# Even though the DataFrame already exists from the above cell, \n",
    "# create a DataFrame from the CSV in the above cell (out_csv)\n",
    "# and assign it to a variable named df.\n",
    "# This will allow you to work with the data off-line\n",
    "# (without having to hit the Wikipedia server but executing\n",
    "#  the above cell)\n",
    "import pandas as pd\n",
    "out_csv = r'Responses\\world_pop.csv'\n",
    "df = pd.read_csv(out_csv)\n",
    "df"
   ]
  },
  {
   "cell_type": "code",
   "execution_count": null,
   "metadata": {},
   "outputs": [],
   "source": [
    "# The first row has only NaN for all columns.  Assign \n",
    "# the DataFrame with that row removed to df\n",
    "f = df[df[\"Country or Territory\"] != \"World\"]\n",
    "\n",
    "\n",
    "f.reset_index(drop=True, inplace=True)\n",
    "f.head()\n",
    "\n"
   ]
  },
  {
   "cell_type": "code",
   "execution_count": null,
   "metadata": {},
   "outputs": [],
   "source": [
    "# Use tail to view the last 5 rows.  You will note that last row\n",
    "# is \"World\".  Assign the DataFrame with that row removed to df\n",
    "f.tail()"
   ]
  },
  {
   "cell_type": "code",
   "execution_count": null,
   "metadata": {},
   "outputs": [],
   "source": [
    "# Display count of countries\n",
    "f['Country or Territory'].count()"
   ]
  },
  {
   "cell_type": "code",
   "execution_count": null,
   "metadata": {},
   "outputs": [],
   "source": [
    "# Display only the country names\n",
    "f['Country or Territory']"
   ]
  },
  {
   "cell_type": "code",
   "execution_count": null,
   "metadata": {},
   "outputs": [],
   "source": [
    "# Display only the Country and July 2023 populations\n",
    "countries_pop= f[['Country or Territory','Population (1 July 2023)']]\n",
    "countries_pop.head()\n"
   ]
  },
  {
   "cell_type": "code",
   "execution_count": null,
   "metadata": {},
   "outputs": [],
   "source": [
    "# Display names of the top five most populous countries\n",
    "f.sort_values(by='Population (1 July 2023)', ascending= False).head()"
   ]
  },
  {
   "cell_type": "code",
   "execution_count": null,
   "metadata": {},
   "outputs": [],
   "source": [
    "# Display the population for the country Réunion (France)\n",
    "# Assuming 'df' is your DataFrame and \"Country or Territory\" is the column name\n",
    "reunion_population = f[f[\"Country or Territory\"].str.contains(\"Réunion\", case=False, na=False)]\n",
    "reunion_population= reunion_population['Population (1 July 2023)']\n",
    "reunion_population\n"
   ]
  },
  {
   "cell_type": "code",
   "execution_count": null,
   "metadata": {},
   "outputs": [],
   "source": [
    "# Display the name and populations (2023) for all countries with populations less than 50 million\n",
    "# and sort from highest to lowest population\n",
    "country = f[f['Population (1 July 2023)'] < 50000000]\n",
    "\n",
    "country = country[['Country or Territory', 'Population (1 July 2023)']].sort_values(\n",
    "    by='Population (1 July 2023)', ascending=False)\n",
    "\n",
    "country"
   ]
  },
  {
   "cell_type": "code",
   "execution_count": null,
   "metadata": {},
   "outputs": [],
   "source": [
    "# Display the list of Continents\n",
    "f[\"UN Continental Region[1]\"].drop_duplicates()"
   ]
  },
  {
   "cell_type": "code",
   "execution_count": null,
   "metadata": {},
   "outputs": [],
   "source": [
    "# Display the total population for each continent\n",
    "f.groupby(\"UN Continental Region[1]\")[\"Population (1 July 2023)\"].sum()\n"
   ]
  },
  {
   "cell_type": "code",
   "execution_count": null,
   "metadata": {},
   "outputs": [],
   "source": [
    "# Display the number of countries per continent (HINT:  .groupby)\n",
    "f.groupby(\"UN Continental Region[1]\")[\"Country or Territory\"].count()"
   ]
  }
 ],
 "metadata": {
  "kernelspec": {
   "display_name": "gis4107",
   "language": "python",
   "name": "python3"
  },
  "language_info": {
   "codemirror_mode": {
    "name": "ipython",
    "version": 3
   },
   "file_extension": ".py",
   "mimetype": "text/x-python",
   "name": "python",
   "nbconvert_exporter": "python",
   "pygments_lexer": "ipython3",
   "version": "3.9.16"
  },
  "orig_nbformat": 4
 },
 "nbformat": 4,
 "nbformat_minor": 2
}
